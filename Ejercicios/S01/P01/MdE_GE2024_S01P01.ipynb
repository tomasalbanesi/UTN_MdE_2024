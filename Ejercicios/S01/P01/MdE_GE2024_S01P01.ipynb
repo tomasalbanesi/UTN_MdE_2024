{
 "cells": [
  {
   "cell_type": "markdown",
   "id": "2de3fd5a-896c-4b52-b002-97a89c6458be",
   "metadata": {},
   "source": [
    "<img src=\"./img/logo_UTN.svg\" align=\"right\" width=\"200\" /> \n",
    "\n",
    "## Medios de Enlace\n",
    "\n",
    "# Guia de Ejercicios - 2024\n",
    "## Serie N°1 - Problema N°1\n",
    "### Tomas A. Albanesi"
   ]
  },
  {
   "cell_type": "markdown",
   "id": "97de887b-d277-4320-8e2b-7139f76a8c84",
   "metadata": {},
   "source": [
    "## Indice de contenidos:\n",
    "* [1. Consigna](#1)\n",
    "* [2. Inicializaciones de código](#2)\n",
    "* [3. Resolución Punto 1)](#3)\n",
    "* [4. Resolución Punto 2)](#4)\n",
    "* [5. Resolución Punto 3)](#5)\n",
    "* [6. Resolución Punto 4)](#6)\n",
    "* [7. Resolución Punto 5)](#7)\n",
    "* [8. Conclusiones generales](#8)"
   ]
  },
  {
   "cell_type": "markdown",
   "id": "2df5c19e-93c4-434a-b3cb-f1776823b64d",
   "metadata": {},
   "source": [
    "## 1. Consigna <a class=\"anchor\" id=\"1\"></a>\n",
    "\n",
    "<img src=\"./img/Consigna.jpg\" width=\"800\" align=\"left\"/>"
   ]
  }
 ],
 "metadata": {
  "kernelspec": {
   "display_name": "Python 3 (ipykernel)",
   "language": "python",
   "name": "python3"
  },
  "language_info": {
   "codemirror_mode": {
    "name": "ipython",
    "version": 3
   },
   "file_extension": ".py",
   "mimetype": "text/x-python",
   "name": "python",
   "nbconvert_exporter": "python",
   "pygments_lexer": "ipython3",
   "version": "3.11.7"
  }
 },
 "nbformat": 4,
 "nbformat_minor": 5
}
